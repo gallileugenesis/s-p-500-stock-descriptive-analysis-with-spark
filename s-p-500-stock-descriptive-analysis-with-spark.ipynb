{
 "cells": [
  {
   "cell_type": "markdown",
   "metadata": {},
   "source": [
    "# S&P 500 stock - a descriptive analysis with Spark"
   ]
  },
  {
   "cell_type": "code",
   "execution_count": 28,
   "metadata": {
    "execution": {
     "iopub.execute_input": "2023-09-10T22:44:45.310637Z",
     "iopub.status.busy": "2023-09-10T22:44:45.310269Z",
     "iopub.status.idle": "2023-09-10T22:44:55.102240Z",
     "shell.execute_reply": "2023-09-10T22:44:55.100673Z",
     "shell.execute_reply.started": "2023-09-10T22:44:45.310608Z"
    }
   },
   "outputs": [
    {
     "name": "stdout",
     "output_type": "stream",
     "text": [
      "Requirement already satisfied: pyspark in /opt/conda/lib/python3.10/site-packages (3.4.1)\n",
      "Requirement already satisfied: py4j==0.10.9.7 in /opt/conda/lib/python3.10/site-packages (from pyspark) (0.10.9.7)\n"
     ]
    }
   ],
   "source": [
    "import numpy as np  \n",
    "import pandas as pd  \n",
    "!pip install pyspark\n",
    "from pyspark.sql import SparkSession\n",
    "\n",
    "from pyspark.sql.functions import col, length"
   ]
  },
  {
   "cell_type": "code",
   "execution_count": 29,
   "metadata": {
    "execution": {
     "iopub.execute_input": "2023-09-10T22:44:55.105071Z",
     "iopub.status.busy": "2023-09-10T22:44:55.104732Z",
     "iopub.status.idle": "2023-09-10T22:44:55.112587Z",
     "shell.execute_reply": "2023-09-10T22:44:55.111594Z",
     "shell.execute_reply.started": "2023-09-10T22:44:55.105041Z"
    }
   },
   "outputs": [],
   "source": [
    "# Create a Spark session\n",
    "spark = SparkSession.builder \\\n",
    "    .appName(\"S&P500StockAnalysis\") \\\n",
    "    .getOrCreate()\n"
   ]
  },
  {
   "cell_type": "code",
   "execution_count": 30,
   "metadata": {
    "execution": {
     "iopub.execute_input": "2023-09-10T22:44:55.114177Z",
     "iopub.status.busy": "2023-09-10T22:44:55.113893Z",
     "iopub.status.idle": "2023-09-10T22:44:56.544143Z",
     "shell.execute_reply": "2023-09-10T22:44:56.542917Z",
     "shell.execute_reply.started": "2023-09-10T22:44:55.114153Z"
    }
   },
   "outputs": [
    {
     "name": "stderr",
     "output_type": "stream",
     "text": [
      "                                                                                \r"
     ]
    },
    {
     "name": "stdout",
     "output_type": "stream",
     "text": [
      "# rows: 619040\n",
      "+----------+-----+-----+-----+-----+--------+----+\n",
      "|      date| open| high|  low|close|  volume|Name|\n",
      "+----------+-----+-----+-----+-----+--------+----+\n",
      "|2013-02-08|15.07|15.12|14.63|14.75| 8407500| AAL|\n",
      "|2013-02-11|14.89|15.01|14.26|14.46| 8882000| AAL|\n",
      "|2013-02-12|14.45|14.51| 14.1|14.27| 8126000| AAL|\n",
      "|2013-02-13| 14.3|14.94|14.25|14.66|10259500| AAL|\n",
      "|2013-02-14|14.94|14.96|13.16|13.99|31879900| AAL|\n",
      "|2013-02-15|13.93|14.61|13.93| 14.5|15628000| AAL|\n",
      "|2013-02-19|14.33|14.56|14.08|14.26|11354400| AAL|\n",
      "|2013-02-20|14.17|14.26|13.15|13.33|14725200| AAL|\n",
      "|2013-02-21|13.62|13.95| 12.9|13.37|11922100| AAL|\n",
      "|2013-02-22|13.57| 13.6|13.21|13.57| 6071400| AAL|\n",
      "|2013-02-25| 13.6|13.76| 13.0|13.02| 7186400| AAL|\n",
      "|2013-02-26|13.14|13.42| 12.7|13.26| 9419000| AAL|\n",
      "|2013-02-27|13.28|13.62|13.18|13.41| 7390500| AAL|\n",
      "|2013-02-28|13.49|13.63|13.39|13.43| 6143600| AAL|\n",
      "|2013-03-01|13.37|13.95|13.32|13.61| 7376800| AAL|\n",
      "|2013-03-04| 13.5|14.07|13.47| 13.9| 8174800| AAL|\n",
      "|2013-03-05|14.01|14.05|13.71|14.05| 7676100| AAL|\n",
      "|2013-03-06|14.52|14.68|14.25|14.57|13243200| AAL|\n",
      "|2013-03-07| 14.7|14.93| 14.5|14.82| 9125300| AAL|\n",
      "|2013-03-08|14.99| 15.2|14.84|14.92|10593700| AAL|\n",
      "+----------+-----+-----+-----+-----+--------+----+\n",
      "only showing top 20 rows\n",
      "\n"
     ]
    }
   ],
   "source": [
    "# Define the path to the CSV file\n",
    "csv_file_path = \"/kaggle/input/sandp500/all_stocks_5yr.csv\"\n",
    "\n",
    "# Read the CSV file into a Spark DataFrame\n",
    "df = spark.read.csv(csv_file_path, header=True, inferSchema=True)\n",
    "\n",
    "# Show the first few rows of the DataFrame\n",
    "print(f'# rows: {df.count()}')\n",
    "df.show()"
   ]
  },
  {
   "cell_type": "code",
   "execution_count": 31,
   "metadata": {
    "execution": {
     "iopub.execute_input": "2023-09-10T22:44:56.545855Z",
     "iopub.status.busy": "2023-09-10T22:44:56.545407Z",
     "iopub.status.idle": "2023-09-10T22:44:58.797215Z",
     "shell.execute_reply": "2023-09-10T22:44:58.796323Z",
     "shell.execute_reply.started": "2023-09-10T22:44:56.545817Z"
    }
   },
   "outputs": [
    {
     "name": "stderr",
     "output_type": "stream",
     "text": [
      "[Stage 6:=============================>                             (2 + 2) / 4]\r"
     ]
    },
    {
     "name": "stdout",
     "output_type": "stream",
     "text": [
      "+-------+----------------+-----------------+-----------------+-----------------+-----------------+------+\n",
      "|summary|            open|             high|              low|            close|           volume|  Name|\n",
      "+-------+----------------+-----------------+-----------------+-----------------+-----------------+------+\n",
      "|  count|          619029|           619032|           619032|           619040|           619040|619040|\n",
      "|   mean|83.0233343145481|83.77831069347307|82.25609641375267|83.04376276476548|4321823.395568945|  null|\n",
      "| stddev|97.3787690433234|98.20751890446383|96.50742105809076|97.38974800165785| 8693609.51196759|  null|\n",
      "|    min|            1.62|             1.69|              1.5|             1.59|                0|     A|\n",
      "|    max|          2044.0|          2067.99|          2035.11|           2049.0|        618237630|   ZTS|\n",
      "+-------+----------------+-----------------+-----------------+-----------------+-----------------+------+\n",
      "\n"
     ]
    },
    {
     "name": "stderr",
     "output_type": "stream",
     "text": [
      "                                                                                \r"
     ]
    }
   ],
   "source": [
    "df.describe().show()"
   ]
  },
  {
   "cell_type": "markdown",
   "metadata": {},
   "source": [
    "Quantos registros há na planilha para a ação da Apple (AAPL)?"
   ]
  },
  {
   "cell_type": "code",
   "execution_count": 32,
   "metadata": {
    "execution": {
     "iopub.execute_input": "2023-09-10T22:44:58.799973Z",
     "iopub.status.busy": "2023-09-10T22:44:58.799684Z",
     "iopub.status.idle": "2023-09-10T22:44:59.216130Z",
     "shell.execute_reply": "2023-09-10T22:44:59.214583Z",
     "shell.execute_reply.started": "2023-09-10T22:44:58.799949Z"
    }
   },
   "outputs": [
    {
     "name": "stdout",
     "output_type": "stream",
     "text": [
      "Existem 1259 ocorrências para o código AAPL\n"
     ]
    }
   ],
   "source": [
    "# Count the occurrences of \"AAPL\"\n",
    "count_aapl = df.filter(df[\"Name\"] == \"AAPL\").count()\n",
    "print(f\"Existem {count_aapl} ocorrências para o código AAPL\")"
   ]
  },
  {
   "cell_type": "markdown",
   "metadata": {},
   "source": [
    "#### Quantas empresas distintas têm registros nessa planilha?"
   ]
  },
  {
   "cell_type": "code",
   "execution_count": 33,
   "metadata": {
    "execution": {
     "iopub.execute_input": "2023-09-10T22:44:59.218458Z",
     "iopub.status.busy": "2023-09-10T22:44:59.217982Z",
     "iopub.status.idle": "2023-09-10T22:44:59.801653Z",
     "shell.execute_reply": "2023-09-10T22:44:59.800810Z",
     "shell.execute_reply.started": "2023-09-10T22:44:59.218411Z"
    }
   },
   "outputs": [
    {
     "name": "stdout",
     "output_type": "stream",
     "text": [
      "Existem 505 ações distintas no banco de dados\n"
     ]
    }
   ],
   "source": [
    "# Get distinct or unique values in the \"Name\" column\n",
    "numer_of_unique_stocks  = df.select(\"Name\").distinct().count()\n",
    "print(f\"Existem {numer_of_unique_stocks} ações distintas no banco de dados\")\n",
    " "
   ]
  },
  {
   "cell_type": "markdown",
   "metadata": {},
   "source": [
    "#### Com qual frequência o preço de uma ação no fechamento é maior do que o preço na abertura?"
   ]
  },
  {
   "cell_type": "code",
   "execution_count": 34,
   "metadata": {
    "execution": {
     "iopub.execute_input": "2023-09-10T22:44:59.802898Z",
     "iopub.status.busy": "2023-09-10T22:44:59.802580Z",
     "iopub.status.idle": "2023-09-10T22:45:00.488512Z",
     "shell.execute_reply": "2023-09-10T22:45:00.487737Z",
     "shell.execute_reply.started": "2023-09-10T22:44:59.802871Z"
    }
   },
   "outputs": [
    {
     "name": "stdout",
     "output_type": "stream",
     "text": [
      "O preço das ações no fechamento é maior do que na abertura em 51.53% dos casos\n"
     ]
    }
   ],
   "source": [
    "CloseGreatOpen = df.filter(df[\"Close\"] > df[\"Open\"]).count()\n",
    "FreqCloseGreatOpen = 100*CloseGreatOpen/df.count()\n",
    "print(f\"O preço das ações no fechamento é maior do que na abertura em {FreqCloseGreatOpen:.2f}% dos casos\")"
   ]
  },
  {
   "cell_type": "markdown",
   "metadata": {},
   "source": [
    "#### Qual o maior valor das ações da Apple (AAPL) na história?"
   ]
  },
  {
   "cell_type": "code",
   "execution_count": 35,
   "metadata": {
    "execution": {
     "iopub.execute_input": "2023-09-10T22:45:00.489612Z",
     "iopub.status.busy": "2023-09-10T22:45:00.489356Z",
     "iopub.status.idle": "2023-09-10T22:45:00.959085Z",
     "shell.execute_reply": "2023-09-10T22:45:00.957713Z",
     "shell.execute_reply.started": "2023-09-10T22:45:00.489589Z"
    }
   },
   "outputs": [
    {
     "name": "stdout",
     "output_type": "stream",
     "text": [
      "O maior valor das ações da Apple (AAPL) na história foi de US$ 180.1\n"
     ]
    }
   ],
   "source": [
    "aapl = df.filter(df[\"Name\"] == \"AAPL\")\n",
    "biggest_aapl_value = aapl.agg({\"high\": \"max\"}).collect()[0][0]\n",
    "print(f\"O maior valor das ações da Apple (AAPL) na história foi de US$ {biggest_aapl_value}\")"
   ]
  },
  {
   "cell_type": "markdown",
   "metadata": {},
   "source": [
    "####  Qual ação tem a maior volatilidade? \n",
    "\n",
    "Uma forma é medir o desvio-padrão do preço de fechamento de cada ação e considerar a ação de maior desvio-padrão."
   ]
  },
  {
   "cell_type": "code",
   "execution_count": 36,
   "metadata": {
    "execution": {
     "iopub.execute_input": "2023-09-10T22:45:00.960741Z",
     "iopub.status.busy": "2023-09-10T22:45:00.960443Z",
     "iopub.status.idle": "2023-09-10T22:45:01.559509Z",
     "shell.execute_reply": "2023-09-10T22:45:01.558673Z",
     "shell.execute_reply.started": "2023-09-10T22:45:00.960711Z"
    }
   },
   "outputs": [
    {
     "name": "stdout",
     "output_type": "stream",
     "text": [
      "A ação com maior volatilidade foi PCLN, com um desvio padrão no preço de fechamento de US$ 320.53\n"
     ]
    }
   ],
   "source": [
    "greatest_std = df.groupby(\"Name\").agg({\"close\": \"std\"}).orderBy(col(\"stddev(close)\").desc()).first()\n",
    "print(f\"A ação com maior volatilidade foi {greatest_std['Name']}, com um desvio padrão no preço de fechamento de US$ {greatest_std['stddev(close)']:.2f}\")"
   ]
  },
  {
   "cell_type": "markdown",
   "metadata": {},
   "source": [
    "#### Qual o dia com maior volume total de negociação da bolsa?"
   ]
  },
  {
   "cell_type": "code",
   "execution_count": 37,
   "metadata": {
    "execution": {
     "iopub.execute_input": "2023-09-10T22:45:01.560592Z",
     "iopub.status.busy": "2023-09-10T22:45:01.560314Z",
     "iopub.status.idle": "2023-09-10T22:45:02.400917Z",
     "shell.execute_reply": "2023-09-10T22:45:02.399876Z",
     "shell.execute_reply.started": "2023-09-10T22:45:01.560568Z"
    }
   },
   "outputs": [
    {
     "name": "stderr",
     "output_type": "stream",
     "text": [
      "[Stage 30:==============>                                           (1 + 3) / 4]\r"
     ]
    },
    {
     "name": "stdout",
     "output_type": "stream",
     "text": [
      "O dia com maior volume de negociação na bolsa foi 2015-08-24, com um total de US$ 4607945196.00\n"
     ]
    },
    {
     "name": "stderr",
     "output_type": "stream",
     "text": [
      "                                                                                \r"
     ]
    }
   ],
   "source": [
    "greatest_volume_data = df.groupby(\"date\").agg({\"volume\": \"sum\"}).orderBy(col(\"sum(volume)\").desc()).first()\n",
    "print(f\"O dia com maior volume de negociação na bolsa foi {greatest_volume_data['date']}, com um total de US$ {greatest_volume_data['sum(volume)']:.2f}\")"
   ]
  },
  {
   "cell_type": "markdown",
   "metadata": {},
   "source": [
    "#### Qual a ação mais negociada da bolsa, em volume de transações?"
   ]
  },
  {
   "cell_type": "code",
   "execution_count": 38,
   "metadata": {
    "execution": {
     "iopub.execute_input": "2023-09-10T22:45:02.402364Z",
     "iopub.status.busy": "2023-09-10T22:45:02.401999Z",
     "iopub.status.idle": "2023-09-10T22:45:02.964833Z",
     "shell.execute_reply": "2023-09-10T22:45:02.963893Z",
     "shell.execute_reply.started": "2023-09-10T22:45:02.402326Z"
    }
   },
   "outputs": [
    {
     "name": "stdout",
     "output_type": "stream",
     "text": [
      "A ação mais negociada da bolsa, em volume de transações, foi BAC, com um total de US$ 117884953591.00\n"
     ]
    }
   ],
   "source": [
    "most_traded_stock = df.groupby(\"Name\").agg({\"volume\": \"sum\"}).orderBy(col(\"sum(volume)\").desc()).first()\n",
    "print(f\"A ação mais negociada da bolsa, em volume de transações, foi {most_traded_stock['Name']}, com um total de US$ {most_traded_stock['sum(volume)']:.2f}\")"
   ]
  },
  {
   "cell_type": "markdown",
   "metadata": {},
   "source": [
    "#### Quantas ações começam com a letra “A”?\n"
   ]
  },
  {
   "cell_type": "code",
   "execution_count": 39,
   "metadata": {
    "execution": {
     "iopub.execute_input": "2023-09-10T22:45:02.966767Z",
     "iopub.status.busy": "2023-09-10T22:45:02.966207Z",
     "iopub.status.idle": "2023-09-10T22:45:03.416740Z",
     "shell.execute_reply": "2023-09-10T22:45:03.414882Z",
     "shell.execute_reply.started": "2023-09-10T22:45:02.966726Z"
    }
   },
   "outputs": [
    {
     "name": "stdout",
     "output_type": "stream",
     "text": [
      "59 ações começam com a letra A\n"
     ]
    }
   ],
   "source": [
    "starts_with_A = df.select(\"Name\").distinct().filter(col(\"Name\").startswith(\"A\")).count()\n",
    "print(f\"{starts_with_A} ações começam com a letra A\")"
   ]
  },
  {
   "cell_type": "markdown",
   "metadata": {},
   "source": [
    "#### Com qual frequência o preço mais alto do dia da ação também é o preço de fechamento?\n"
   ]
  },
  {
   "cell_type": "code",
   "execution_count": 40,
   "metadata": {
    "execution": {
     "iopub.execute_input": "2023-09-10T22:45:03.418030Z",
     "iopub.status.busy": "2023-09-10T22:45:03.417702Z",
     "iopub.status.idle": "2023-09-10T22:45:04.223208Z",
     "shell.execute_reply": "2023-09-10T22:45:04.222454Z",
     "shell.execute_reply.started": "2023-09-10T22:45:03.418004Z"
    }
   },
   "outputs": [
    {
     "name": "stderr",
     "output_type": "stream",
     "text": [
      "                                                                                \r"
     ]
    },
    {
     "name": "stdout",
     "output_type": "stream",
     "text": [
      "O preço mais alto do dia da ação também é o preço de fechamento em 1.20% das ocasiões\n"
     ]
    }
   ],
   "source": [
    "HighIgualClose = df.filter(df[\"high\"] == df[\"close\"]).count()\n",
    "FreqHighIgualClose = 100*HighIgualClose/df.count()\n",
    "print(f\"O preço mais alto do dia da ação também é o preço de fechamento em {FreqHighIgualClose:.2f}% das ocasiões\")"
   ]
  },
  {
   "cell_type": "markdown",
   "metadata": {},
   "source": [
    "#### Em qual dia a ação da Apple mais subiu entre a abertura e o fechamento, de forma absoluta?\n"
   ]
  },
  {
   "cell_type": "code",
   "execution_count": 41,
   "metadata": {
    "execution": {
     "iopub.execute_input": "2023-09-10T22:45:04.226129Z",
     "iopub.status.busy": "2023-09-10T22:45:04.225886Z",
     "iopub.status.idle": "2023-09-10T22:45:04.860021Z",
     "shell.execute_reply": "2023-09-10T22:45:04.858877Z",
     "shell.execute_reply.started": "2023-09-10T22:45:04.226108Z"
    }
   },
   "outputs": [
    {
     "name": "stdout",
     "output_type": "stream",
     "text": [
      "A ação da Apple mais subiu entre a abertura e o fechamento, de forma absoluta, no dia 2015-08-25\n"
     ]
    }
   ],
   "source": [
    "aapl_exp = aapl.withColumn('diff_open_close', aapl['open'] - aapl['close'])\n",
    "max_abs_diff_day = aapl_exp.select(\"date\", \"diff_open_close\").orderBy(col(\"diff_open_close\").desc()).first()\n",
    "print(f\"A ação da Apple mais subiu entre a abertura e o fechamento, de forma absoluta, no dia {max_abs_diff_day['date']}\")"
   ]
  },
  {
   "cell_type": "markdown",
   "metadata": {},
   "source": [
    "#### Em média, qual o volume diário de transações das ações da AAPL?"
   ]
  },
  {
   "cell_type": "code",
   "execution_count": 42,
   "metadata": {
    "execution": {
     "iopub.execute_input": "2023-09-10T22:45:04.862873Z",
     "iopub.status.busy": "2023-09-10T22:45:04.862454Z",
     "iopub.status.idle": "2023-09-10T22:45:05.255865Z",
     "shell.execute_reply": "2023-09-10T22:45:05.255181Z",
     "shell.execute_reply.started": "2023-09-10T22:45:04.862834Z"
    }
   },
   "outputs": [
    {
     "name": "stdout",
     "output_type": "stream",
     "text": [
      "O volume diário médio de transações das ações da AAPL é de US$ 54047899.74\n"
     ]
    }
   ],
   "source": [
    "avg_volume_aapl = aapl.agg({\"volume\": \"mean\"}).collect()[0][0]\n",
    "print(f\"O volume diário médio de transações das ações da AAPL é de US$ {avg_volume_aapl:.2f}\")"
   ]
  },
  {
   "cell_type": "markdown",
   "metadata": {},
   "source": [
    "#### Quantas ações tem 1, 2, 3, 4 e 5 caracteres em seu nome, respectivamente?"
   ]
  },
  {
   "cell_type": "code",
   "execution_count": 43,
   "metadata": {
    "execution": {
     "iopub.execute_input": "2023-09-10T22:45:05.257219Z",
     "iopub.status.busy": "2023-09-10T22:45:05.256655Z",
     "iopub.status.idle": "2023-09-10T22:45:05.862682Z",
     "shell.execute_reply": "2023-09-10T22:45:05.861767Z",
     "shell.execute_reply.started": "2023-09-10T22:45:05.257163Z"
    }
   },
   "outputs": [
    {
     "name": "stdout",
     "output_type": "stream",
     "text": [
      "+-----------+-----+\n",
      "|name_length|count|\n",
      "+-----------+-----+\n",
      "|          1|   10|\n",
      "|          2|   50|\n",
      "|          3|  323|\n",
      "|          4|  117|\n",
      "|          5|    5|\n",
      "+-----------+-----+\n",
      "\n"
     ]
    }
   ],
   "source": [
    "name_df = df.groupby(\"Name\").count()\n",
    "# Adicione uma coluna para calcular o comprimento do nome\n",
    "name_df = name_df.withColumn(\"name_length\", length(col(\"Name\")))\n",
    "groupby_name_length = name_df.groupby(\"name_length\").count().\\\n",
    "                                        orderBy(col(\"name_length\").asc()).show()\n",
    "groupby_name_length"
   ]
  },
  {
   "cell_type": "markdown",
   "metadata": {},
   "source": [
    "#### Qual a ação menos negociada da bolsa, em volume de transações?"
   ]
  },
  {
   "cell_type": "code",
   "execution_count": 44,
   "metadata": {
    "execution": {
     "iopub.execute_input": "2023-09-10T22:45:05.864000Z",
     "iopub.status.busy": "2023-09-10T22:45:05.863652Z",
     "iopub.status.idle": "2023-09-10T22:45:06.387317Z",
     "shell.execute_reply": "2023-09-10T22:45:06.386353Z",
     "shell.execute_reply.started": "2023-09-10T22:45:05.863968Z"
    }
   },
   "outputs": [
    {
     "name": "stdout",
     "output_type": "stream",
     "text": [
      "A ação menos negociada da bolsa foi APTV, com um volume total de US$ 92947779.00\n"
     ]
    }
   ],
   "source": [
    "least_traded_stock = df.groupby(\"Name\").agg({\"volume\": \"sum\"}).orderBy(col(\"sum(volume)\").asc()).first()\n",
    "print(f\"A ação menos negociada da bolsa foi {least_traded_stock['Name']}, com um volume total de US$ {least_traded_stock['sum(volume)']:.2f}\")"
   ]
  },
  {
   "cell_type": "code",
   "execution_count": 45,
   "metadata": {
    "execution": {
     "iopub.execute_input": "2023-09-10T22:45:06.388605Z",
     "iopub.status.busy": "2023-09-10T22:45:06.388283Z",
     "iopub.status.idle": "2023-09-10T22:45:06.604597Z",
     "shell.execute_reply": "2023-09-10T22:45:06.603470Z",
     "shell.execute_reply.started": "2023-09-10T22:45:06.388576Z"
    }
   },
   "outputs": [],
   "source": [
    "# Finaliza a sessão \n",
    "spark.stop()"
   ]
  }
 ],
 "metadata": {
  "kernelspec": {
   "display_name": "Python 3 (ipykernel)",
   "language": "python",
   "name": "python3"
  },
  "language_info": {
   "codemirror_mode": {
    "name": "ipython",
    "version": 3
   },
   "file_extension": ".py",
   "mimetype": "text/x-python",
   "name": "python",
   "nbconvert_exporter": "python",
   "pygments_lexer": "ipython3",
   "version": "3.9.12"
  }
 },
 "nbformat": 4,
 "nbformat_minor": 4
}
